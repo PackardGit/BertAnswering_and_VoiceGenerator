{
  "nbformat": 4,
  "nbformat_minor": 0,
  "metadata": {
    "colab": {
      "name": "AskPopeAboutKrawczyk.ipynb",
      "provenance": [],
      "collapsed_sections": []
    },
    "kernelspec": {
      "name": "python3",
      "display_name": "Python 3"
    },
    "accelerator": "GPU",
    "widgets": {
      "application/vnd.jupyter.widget-state+json": {
        "a678f56b51a34cc5b959167539cf754d": {
          "model_module": "@jupyter-widgets/controls",
          "model_name": "HBoxModel",
          "state": {
            "_view_name": "HBoxView",
            "_dom_classes": [],
            "_model_name": "HBoxModel",
            "_view_module": "@jupyter-widgets/controls",
            "_model_module_version": "1.5.0",
            "_view_count": null,
            "_view_module_version": "1.5.0",
            "box_style": "",
            "layout": "IPY_MODEL_9ede2e8c72434e6db5af4f536da85fcf",
            "_model_module": "@jupyter-widgets/controls",
            "children": [
              "IPY_MODEL_0d7aaca7ef93449db5a30148971637b2",
              "IPY_MODEL_739590f5ad5e46a187c6d7d73290f6b1"
            ]
          }
        },
        "9ede2e8c72434e6db5af4f536da85fcf": {
          "model_module": "@jupyter-widgets/base",
          "model_name": "LayoutModel",
          "state": {
            "_view_name": "LayoutView",
            "grid_template_rows": null,
            "right": null,
            "justify_content": null,
            "_view_module": "@jupyter-widgets/base",
            "overflow": null,
            "_model_module_version": "1.2.0",
            "_view_count": null,
            "flex_flow": null,
            "width": null,
            "min_width": null,
            "border": null,
            "align_items": null,
            "bottom": null,
            "_model_module": "@jupyter-widgets/base",
            "top": null,
            "grid_column": null,
            "overflow_y": null,
            "overflow_x": null,
            "grid_auto_flow": null,
            "grid_area": null,
            "grid_template_columns": null,
            "flex": null,
            "_model_name": "LayoutModel",
            "justify_items": null,
            "grid_row": null,
            "max_height": null,
            "align_content": null,
            "visibility": null,
            "align_self": null,
            "height": null,
            "min_height": null,
            "padding": null,
            "grid_auto_rows": null,
            "grid_gap": null,
            "max_width": null,
            "order": null,
            "_view_module_version": "1.2.0",
            "grid_template_areas": null,
            "object_position": null,
            "object_fit": null,
            "grid_auto_columns": null,
            "margin": null,
            "display": null,
            "left": null
          }
        },
        "0d7aaca7ef93449db5a30148971637b2": {
          "model_module": "@jupyter-widgets/controls",
          "model_name": "FloatProgressModel",
          "state": {
            "_view_name": "ProgressView",
            "style": "IPY_MODEL_7b3bd72cfa994c01b3c25bf11bb7a22b",
            "_dom_classes": [],
            "description": "Downloading: 100%",
            "_model_name": "FloatProgressModel",
            "bar_style": "success",
            "max": 443,
            "_view_module": "@jupyter-widgets/controls",
            "_model_module_version": "1.5.0",
            "value": 443,
            "_view_count": null,
            "_view_module_version": "1.5.0",
            "orientation": "horizontal",
            "min": 0,
            "description_tooltip": null,
            "_model_module": "@jupyter-widgets/controls",
            "layout": "IPY_MODEL_95fea714d6a5439793c2bf24f1fe0fec"
          }
        },
        "739590f5ad5e46a187c6d7d73290f6b1": {
          "model_module": "@jupyter-widgets/controls",
          "model_name": "HTMLModel",
          "state": {
            "_view_name": "HTMLView",
            "style": "IPY_MODEL_019ab9f2e133441196046ca571e27031",
            "_dom_classes": [],
            "description": "",
            "_model_name": "HTMLModel",
            "placeholder": "​",
            "_view_module": "@jupyter-widgets/controls",
            "_model_module_version": "1.5.0",
            "value": " 443/443 [00:00&lt;00:00, 1.86kB/s]",
            "_view_count": null,
            "_view_module_version": "1.5.0",
            "description_tooltip": null,
            "_model_module": "@jupyter-widgets/controls",
            "layout": "IPY_MODEL_eadc9fe8959f479889936a3fe172b334"
          }
        },
        "7b3bd72cfa994c01b3c25bf11bb7a22b": {
          "model_module": "@jupyter-widgets/controls",
          "model_name": "ProgressStyleModel",
          "state": {
            "_view_name": "StyleView",
            "_model_name": "ProgressStyleModel",
            "description_width": "initial",
            "_view_module": "@jupyter-widgets/base",
            "_model_module_version": "1.5.0",
            "_view_count": null,
            "_view_module_version": "1.2.0",
            "bar_color": null,
            "_model_module": "@jupyter-widgets/controls"
          }
        },
        "95fea714d6a5439793c2bf24f1fe0fec": {
          "model_module": "@jupyter-widgets/base",
          "model_name": "LayoutModel",
          "state": {
            "_view_name": "LayoutView",
            "grid_template_rows": null,
            "right": null,
            "justify_content": null,
            "_view_module": "@jupyter-widgets/base",
            "overflow": null,
            "_model_module_version": "1.2.0",
            "_view_count": null,
            "flex_flow": null,
            "width": null,
            "min_width": null,
            "border": null,
            "align_items": null,
            "bottom": null,
            "_model_module": "@jupyter-widgets/base",
            "top": null,
            "grid_column": null,
            "overflow_y": null,
            "overflow_x": null,
            "grid_auto_flow": null,
            "grid_area": null,
            "grid_template_columns": null,
            "flex": null,
            "_model_name": "LayoutModel",
            "justify_items": null,
            "grid_row": null,
            "max_height": null,
            "align_content": null,
            "visibility": null,
            "align_self": null,
            "height": null,
            "min_height": null,
            "padding": null,
            "grid_auto_rows": null,
            "grid_gap": null,
            "max_width": null,
            "order": null,
            "_view_module_version": "1.2.0",
            "grid_template_areas": null,
            "object_position": null,
            "object_fit": null,
            "grid_auto_columns": null,
            "margin": null,
            "display": null,
            "left": null
          }
        },
        "019ab9f2e133441196046ca571e27031": {
          "model_module": "@jupyter-widgets/controls",
          "model_name": "DescriptionStyleModel",
          "state": {
            "_view_name": "StyleView",
            "_model_name": "DescriptionStyleModel",
            "description_width": "",
            "_view_module": "@jupyter-widgets/base",
            "_model_module_version": "1.5.0",
            "_view_count": null,
            "_view_module_version": "1.2.0",
            "_model_module": "@jupyter-widgets/controls"
          }
        },
        "eadc9fe8959f479889936a3fe172b334": {
          "model_module": "@jupyter-widgets/base",
          "model_name": "LayoutModel",
          "state": {
            "_view_name": "LayoutView",
            "grid_template_rows": null,
            "right": null,
            "justify_content": null,
            "_view_module": "@jupyter-widgets/base",
            "overflow": null,
            "_model_module_version": "1.2.0",
            "_view_count": null,
            "flex_flow": null,
            "width": null,
            "min_width": null,
            "border": null,
            "align_items": null,
            "bottom": null,
            "_model_module": "@jupyter-widgets/base",
            "top": null,
            "grid_column": null,
            "overflow_y": null,
            "overflow_x": null,
            "grid_auto_flow": null,
            "grid_area": null,
            "grid_template_columns": null,
            "flex": null,
            "_model_name": "LayoutModel",
            "justify_items": null,
            "grid_row": null,
            "max_height": null,
            "align_content": null,
            "visibility": null,
            "align_self": null,
            "height": null,
            "min_height": null,
            "padding": null,
            "grid_auto_rows": null,
            "grid_gap": null,
            "max_width": null,
            "order": null,
            "_view_module_version": "1.2.0",
            "grid_template_areas": null,
            "object_position": null,
            "object_fit": null,
            "grid_auto_columns": null,
            "margin": null,
            "display": null,
            "left": null
          }
        },
        "3dfaa510e83b4c30b563d510f78ffe62": {
          "model_module": "@jupyter-widgets/controls",
          "model_name": "HBoxModel",
          "state": {
            "_view_name": "HBoxView",
            "_dom_classes": [],
            "_model_name": "HBoxModel",
            "_view_module": "@jupyter-widgets/controls",
            "_model_module_version": "1.5.0",
            "_view_count": null,
            "_view_module_version": "1.5.0",
            "box_style": "",
            "layout": "IPY_MODEL_b4b5f8a9349740be89d9a50ba444cd97",
            "_model_module": "@jupyter-widgets/controls",
            "children": [
              "IPY_MODEL_d1c5cb276b7d44e28e64f667e9909aa0",
              "IPY_MODEL_7c4f4be9a52c4f02bc5cf1559dbc1bf3"
            ]
          }
        },
        "b4b5f8a9349740be89d9a50ba444cd97": {
          "model_module": "@jupyter-widgets/base",
          "model_name": "LayoutModel",
          "state": {
            "_view_name": "LayoutView",
            "grid_template_rows": null,
            "right": null,
            "justify_content": null,
            "_view_module": "@jupyter-widgets/base",
            "overflow": null,
            "_model_module_version": "1.2.0",
            "_view_count": null,
            "flex_flow": null,
            "width": null,
            "min_width": null,
            "border": null,
            "align_items": null,
            "bottom": null,
            "_model_module": "@jupyter-widgets/base",
            "top": null,
            "grid_column": null,
            "overflow_y": null,
            "overflow_x": null,
            "grid_auto_flow": null,
            "grid_area": null,
            "grid_template_columns": null,
            "flex": null,
            "_model_name": "LayoutModel",
            "justify_items": null,
            "grid_row": null,
            "max_height": null,
            "align_content": null,
            "visibility": null,
            "align_self": null,
            "height": null,
            "min_height": null,
            "padding": null,
            "grid_auto_rows": null,
            "grid_gap": null,
            "max_width": null,
            "order": null,
            "_view_module_version": "1.2.0",
            "grid_template_areas": null,
            "object_position": null,
            "object_fit": null,
            "grid_auto_columns": null,
            "margin": null,
            "display": null,
            "left": null
          }
        },
        "d1c5cb276b7d44e28e64f667e9909aa0": {
          "model_module": "@jupyter-widgets/controls",
          "model_name": "FloatProgressModel",
          "state": {
            "_view_name": "ProgressView",
            "style": "IPY_MODEL_00ebd548d20f49aba3447289fc5182bf",
            "_dom_classes": [],
            "description": "Downloading: 100%",
            "_model_name": "FloatProgressModel",
            "bar_style": "success",
            "max": 1340675298,
            "_view_module": "@jupyter-widgets/controls",
            "_model_module_version": "1.5.0",
            "value": 1340675298,
            "_view_count": null,
            "_view_module_version": "1.5.0",
            "orientation": "horizontal",
            "min": 0,
            "description_tooltip": null,
            "_model_module": "@jupyter-widgets/controls",
            "layout": "IPY_MODEL_092d90510cf340cabe0e0073dbd41592"
          }
        },
        "7c4f4be9a52c4f02bc5cf1559dbc1bf3": {
          "model_module": "@jupyter-widgets/controls",
          "model_name": "HTMLModel",
          "state": {
            "_view_name": "HTMLView",
            "style": "IPY_MODEL_53e706159478483c848d6ef02820ba8e",
            "_dom_classes": [],
            "description": "",
            "_model_name": "HTMLModel",
            "placeholder": "​",
            "_view_module": "@jupyter-widgets/controls",
            "_model_module_version": "1.5.0",
            "value": " 1.34G/1.34G [00:19&lt;00:00, 70.1MB/s]",
            "_view_count": null,
            "_view_module_version": "1.5.0",
            "description_tooltip": null,
            "_model_module": "@jupyter-widgets/controls",
            "layout": "IPY_MODEL_0a931161f831424089d8a1f6221edcfd"
          }
        },
        "00ebd548d20f49aba3447289fc5182bf": {
          "model_module": "@jupyter-widgets/controls",
          "model_name": "ProgressStyleModel",
          "state": {
            "_view_name": "StyleView",
            "_model_name": "ProgressStyleModel",
            "description_width": "initial",
            "_view_module": "@jupyter-widgets/base",
            "_model_module_version": "1.5.0",
            "_view_count": null,
            "_view_module_version": "1.2.0",
            "bar_color": null,
            "_model_module": "@jupyter-widgets/controls"
          }
        },
        "092d90510cf340cabe0e0073dbd41592": {
          "model_module": "@jupyter-widgets/base",
          "model_name": "LayoutModel",
          "state": {
            "_view_name": "LayoutView",
            "grid_template_rows": null,
            "right": null,
            "justify_content": null,
            "_view_module": "@jupyter-widgets/base",
            "overflow": null,
            "_model_module_version": "1.2.0",
            "_view_count": null,
            "flex_flow": null,
            "width": null,
            "min_width": null,
            "border": null,
            "align_items": null,
            "bottom": null,
            "_model_module": "@jupyter-widgets/base",
            "top": null,
            "grid_column": null,
            "overflow_y": null,
            "overflow_x": null,
            "grid_auto_flow": null,
            "grid_area": null,
            "grid_template_columns": null,
            "flex": null,
            "_model_name": "LayoutModel",
            "justify_items": null,
            "grid_row": null,
            "max_height": null,
            "align_content": null,
            "visibility": null,
            "align_self": null,
            "height": null,
            "min_height": null,
            "padding": null,
            "grid_auto_rows": null,
            "grid_gap": null,
            "max_width": null,
            "order": null,
            "_view_module_version": "1.2.0",
            "grid_template_areas": null,
            "object_position": null,
            "object_fit": null,
            "grid_auto_columns": null,
            "margin": null,
            "display": null,
            "left": null
          }
        },
        "53e706159478483c848d6ef02820ba8e": {
          "model_module": "@jupyter-widgets/controls",
          "model_name": "DescriptionStyleModel",
          "state": {
            "_view_name": "StyleView",
            "_model_name": "DescriptionStyleModel",
            "description_width": "",
            "_view_module": "@jupyter-widgets/base",
            "_model_module_version": "1.5.0",
            "_view_count": null,
            "_view_module_version": "1.2.0",
            "_model_module": "@jupyter-widgets/controls"
          }
        },
        "0a931161f831424089d8a1f6221edcfd": {
          "model_module": "@jupyter-widgets/base",
          "model_name": "LayoutModel",
          "state": {
            "_view_name": "LayoutView",
            "grid_template_rows": null,
            "right": null,
            "justify_content": null,
            "_view_module": "@jupyter-widgets/base",
            "overflow": null,
            "_model_module_version": "1.2.0",
            "_view_count": null,
            "flex_flow": null,
            "width": null,
            "min_width": null,
            "border": null,
            "align_items": null,
            "bottom": null,
            "_model_module": "@jupyter-widgets/base",
            "top": null,
            "grid_column": null,
            "overflow_y": null,
            "overflow_x": null,
            "grid_auto_flow": null,
            "grid_area": null,
            "grid_template_columns": null,
            "flex": null,
            "_model_name": "LayoutModel",
            "justify_items": null,
            "grid_row": null,
            "max_height": null,
            "align_content": null,
            "visibility": null,
            "align_self": null,
            "height": null,
            "min_height": null,
            "padding": null,
            "grid_auto_rows": null,
            "grid_gap": null,
            "max_width": null,
            "order": null,
            "_view_module_version": "1.2.0",
            "grid_template_areas": null,
            "object_position": null,
            "object_fit": null,
            "grid_auto_columns": null,
            "margin": null,
            "display": null,
            "left": null
          }
        },
        "a9820b87b17a46e6a2dd7e3d47708028": {
          "model_module": "@jupyter-widgets/controls",
          "model_name": "HBoxModel",
          "state": {
            "_view_name": "HBoxView",
            "_dom_classes": [],
            "_model_name": "HBoxModel",
            "_view_module": "@jupyter-widgets/controls",
            "_model_module_version": "1.5.0",
            "_view_count": null,
            "_view_module_version": "1.5.0",
            "box_style": "",
            "layout": "IPY_MODEL_8c6beb89c49c442c81a91065b3f1be4f",
            "_model_module": "@jupyter-widgets/controls",
            "children": [
              "IPY_MODEL_dfb300a6951c4a20acb7977978f2bf0c",
              "IPY_MODEL_96f0e896c6cc423c87a74fba82fbe1b7"
            ]
          }
        },
        "8c6beb89c49c442c81a91065b3f1be4f": {
          "model_module": "@jupyter-widgets/base",
          "model_name": "LayoutModel",
          "state": {
            "_view_name": "LayoutView",
            "grid_template_rows": null,
            "right": null,
            "justify_content": null,
            "_view_module": "@jupyter-widgets/base",
            "overflow": null,
            "_model_module_version": "1.2.0",
            "_view_count": null,
            "flex_flow": null,
            "width": null,
            "min_width": null,
            "border": null,
            "align_items": null,
            "bottom": null,
            "_model_module": "@jupyter-widgets/base",
            "top": null,
            "grid_column": null,
            "overflow_y": null,
            "overflow_x": null,
            "grid_auto_flow": null,
            "grid_area": null,
            "grid_template_columns": null,
            "flex": null,
            "_model_name": "LayoutModel",
            "justify_items": null,
            "grid_row": null,
            "max_height": null,
            "align_content": null,
            "visibility": null,
            "align_self": null,
            "height": null,
            "min_height": null,
            "padding": null,
            "grid_auto_rows": null,
            "grid_gap": null,
            "max_width": null,
            "order": null,
            "_view_module_version": "1.2.0",
            "grid_template_areas": null,
            "object_position": null,
            "object_fit": null,
            "grid_auto_columns": null,
            "margin": null,
            "display": null,
            "left": null
          }
        },
        "dfb300a6951c4a20acb7977978f2bf0c": {
          "model_module": "@jupyter-widgets/controls",
          "model_name": "FloatProgressModel",
          "state": {
            "_view_name": "ProgressView",
            "style": "IPY_MODEL_f9cf864fe4214eccbca09692c71c02bb",
            "_dom_classes": [],
            "description": "Downloading: 100%",
            "_model_name": "FloatProgressModel",
            "bar_style": "success",
            "max": 231508,
            "_view_module": "@jupyter-widgets/controls",
            "_model_module_version": "1.5.0",
            "value": 231508,
            "_view_count": null,
            "_view_module_version": "1.5.0",
            "orientation": "horizontal",
            "min": 0,
            "description_tooltip": null,
            "_model_module": "@jupyter-widgets/controls",
            "layout": "IPY_MODEL_4063c63e605842b1a10cd517701fd006"
          }
        },
        "96f0e896c6cc423c87a74fba82fbe1b7": {
          "model_module": "@jupyter-widgets/controls",
          "model_name": "HTMLModel",
          "state": {
            "_view_name": "HTMLView",
            "style": "IPY_MODEL_a1bff5b242b1499f9d4fc70b1289e5bb",
            "_dom_classes": [],
            "description": "",
            "_model_name": "HTMLModel",
            "placeholder": "​",
            "_view_module": "@jupyter-widgets/controls",
            "_model_module_version": "1.5.0",
            "value": " 232k/232k [00:00&lt;00:00, 3.21MB/s]",
            "_view_count": null,
            "_view_module_version": "1.5.0",
            "description_tooltip": null,
            "_model_module": "@jupyter-widgets/controls",
            "layout": "IPY_MODEL_f3919d38f4064cd19f74f89408fa30cc"
          }
        },
        "f9cf864fe4214eccbca09692c71c02bb": {
          "model_module": "@jupyter-widgets/controls",
          "model_name": "ProgressStyleModel",
          "state": {
            "_view_name": "StyleView",
            "_model_name": "ProgressStyleModel",
            "description_width": "initial",
            "_view_module": "@jupyter-widgets/base",
            "_model_module_version": "1.5.0",
            "_view_count": null,
            "_view_module_version": "1.2.0",
            "bar_color": null,
            "_model_module": "@jupyter-widgets/controls"
          }
        },
        "4063c63e605842b1a10cd517701fd006": {
          "model_module": "@jupyter-widgets/base",
          "model_name": "LayoutModel",
          "state": {
            "_view_name": "LayoutView",
            "grid_template_rows": null,
            "right": null,
            "justify_content": null,
            "_view_module": "@jupyter-widgets/base",
            "overflow": null,
            "_model_module_version": "1.2.0",
            "_view_count": null,
            "flex_flow": null,
            "width": null,
            "min_width": null,
            "border": null,
            "align_items": null,
            "bottom": null,
            "_model_module": "@jupyter-widgets/base",
            "top": null,
            "grid_column": null,
            "overflow_y": null,
            "overflow_x": null,
            "grid_auto_flow": null,
            "grid_area": null,
            "grid_template_columns": null,
            "flex": null,
            "_model_name": "LayoutModel",
            "justify_items": null,
            "grid_row": null,
            "max_height": null,
            "align_content": null,
            "visibility": null,
            "align_self": null,
            "height": null,
            "min_height": null,
            "padding": null,
            "grid_auto_rows": null,
            "grid_gap": null,
            "max_width": null,
            "order": null,
            "_view_module_version": "1.2.0",
            "grid_template_areas": null,
            "object_position": null,
            "object_fit": null,
            "grid_auto_columns": null,
            "margin": null,
            "display": null,
            "left": null
          }
        },
        "a1bff5b242b1499f9d4fc70b1289e5bb": {
          "model_module": "@jupyter-widgets/controls",
          "model_name": "DescriptionStyleModel",
          "state": {
            "_view_name": "StyleView",
            "_model_name": "DescriptionStyleModel",
            "description_width": "",
            "_view_module": "@jupyter-widgets/base",
            "_model_module_version": "1.5.0",
            "_view_count": null,
            "_view_module_version": "1.2.0",
            "_model_module": "@jupyter-widgets/controls"
          }
        },
        "f3919d38f4064cd19f74f89408fa30cc": {
          "model_module": "@jupyter-widgets/base",
          "model_name": "LayoutModel",
          "state": {
            "_view_name": "LayoutView",
            "grid_template_rows": null,
            "right": null,
            "justify_content": null,
            "_view_module": "@jupyter-widgets/base",
            "overflow": null,
            "_model_module_version": "1.2.0",
            "_view_count": null,
            "flex_flow": null,
            "width": null,
            "min_width": null,
            "border": null,
            "align_items": null,
            "bottom": null,
            "_model_module": "@jupyter-widgets/base",
            "top": null,
            "grid_column": null,
            "overflow_y": null,
            "overflow_x": null,
            "grid_auto_flow": null,
            "grid_area": null,
            "grid_template_columns": null,
            "flex": null,
            "_model_name": "LayoutModel",
            "justify_items": null,
            "grid_row": null,
            "max_height": null,
            "align_content": null,
            "visibility": null,
            "align_self": null,
            "height": null,
            "min_height": null,
            "padding": null,
            "grid_auto_rows": null,
            "grid_gap": null,
            "max_width": null,
            "order": null,
            "_view_module_version": "1.2.0",
            "grid_template_areas": null,
            "object_position": null,
            "object_fit": null,
            "grid_auto_columns": null,
            "margin": null,
            "display": null,
            "left": null
          }
        }
      }
    }
  },
  "cells": [
    {
      "cell_type": "code",
      "metadata": {
        "id": "hUQFdu3_awfP",
        "outputId": "92b0a067-1a69-4610-e8f9-b4c91d3f330c",
        "colab": {
          "base_uri": "https://localhost:8080/"
        }
      },
      "source": [
        "# credits to:\n",
        "# https://www.youtube.com/watch?v=l8ZYCvgGu0o\n",
        "# https://github.com/Kyubyong/dc_tts\n",
        "!pip install transformers\n"
      ],
      "execution_count": 6,
      "outputs": [
        {
          "output_type": "stream",
          "text": [
            "Collecting transformers\n",
            "\u001b[?25l  Downloading https://files.pythonhosted.org/packages/2c/4e/4f1ede0fd7a36278844a277f8d53c21f88f37f3754abf76a5d6224f76d4a/transformers-3.4.0-py3-none-any.whl (1.3MB)\n",
            "\r\u001b[K     |▎                               | 10kB 24.2MB/s eta 0:00:01\r\u001b[K     |▌                               | 20kB 29.7MB/s eta 0:00:01\r\u001b[K     |▉                               | 30kB 33.0MB/s eta 0:00:01\r\u001b[K     |█                               | 40kB 26.6MB/s eta 0:00:01\r\u001b[K     |█▎                              | 51kB 14.8MB/s eta 0:00:01\r\u001b[K     |█▋                              | 61kB 13.1MB/s eta 0:00:01\r\u001b[K     |█▉                              | 71kB 12.3MB/s eta 0:00:01\r\u001b[K     |██                              | 81kB 12.2MB/s eta 0:00:01\r\u001b[K     |██▍                             | 92kB 10.9MB/s eta 0:00:01\r\u001b[K     |██▋                             | 102kB 11.8MB/s eta 0:00:01\r\u001b[K     |██▉                             | 112kB 11.8MB/s eta 0:00:01\r\u001b[K     |███▏                            | 122kB 11.8MB/s eta 0:00:01\r\u001b[K     |███▍                            | 133kB 11.8MB/s eta 0:00:01\r\u001b[K     |███▋                            | 143kB 11.8MB/s eta 0:00:01\r\u001b[K     |████                            | 153kB 11.8MB/s eta 0:00:01\r\u001b[K     |████▏                           | 163kB 11.8MB/s eta 0:00:01\r\u001b[K     |████▍                           | 174kB 11.8MB/s eta 0:00:01\r\u001b[K     |████▊                           | 184kB 11.8MB/s eta 0:00:01\r\u001b[K     |█████                           | 194kB 11.8MB/s eta 0:00:01\r\u001b[K     |█████▏                          | 204kB 11.8MB/s eta 0:00:01\r\u001b[K     |█████▌                          | 215kB 11.8MB/s eta 0:00:01\r\u001b[K     |█████▊                          | 225kB 11.8MB/s eta 0:00:01\r\u001b[K     |██████                          | 235kB 11.8MB/s eta 0:00:01\r\u001b[K     |██████▎                         | 245kB 11.8MB/s eta 0:00:01\r\u001b[K     |██████▌                         | 256kB 11.8MB/s eta 0:00:01\r\u001b[K     |██████▊                         | 266kB 11.8MB/s eta 0:00:01\r\u001b[K     |███████                         | 276kB 11.8MB/s eta 0:00:01\r\u001b[K     |███████▎                        | 286kB 11.8MB/s eta 0:00:01\r\u001b[K     |███████▋                        | 296kB 11.8MB/s eta 0:00:01\r\u001b[K     |███████▉                        | 307kB 11.8MB/s eta 0:00:01\r\u001b[K     |████████                        | 317kB 11.8MB/s eta 0:00:01\r\u001b[K     |████████▍                       | 327kB 11.8MB/s eta 0:00:01\r\u001b[K     |████████▋                       | 337kB 11.8MB/s eta 0:00:01\r\u001b[K     |████████▉                       | 348kB 11.8MB/s eta 0:00:01\r\u001b[K     |█████████▏                      | 358kB 11.8MB/s eta 0:00:01\r\u001b[K     |█████████▍                      | 368kB 11.8MB/s eta 0:00:01\r\u001b[K     |█████████▋                      | 378kB 11.8MB/s eta 0:00:01\r\u001b[K     |██████████                      | 389kB 11.8MB/s eta 0:00:01\r\u001b[K     |██████████▏                     | 399kB 11.8MB/s eta 0:00:01\r\u001b[K     |██████████▍                     | 409kB 11.8MB/s eta 0:00:01\r\u001b[K     |██████████▊                     | 419kB 11.8MB/s eta 0:00:01\r\u001b[K     |███████████                     | 430kB 11.8MB/s eta 0:00:01\r\u001b[K     |███████████▏                    | 440kB 11.8MB/s eta 0:00:01\r\u001b[K     |███████████▌                    | 450kB 11.8MB/s eta 0:00:01\r\u001b[K     |███████████▊                    | 460kB 11.8MB/s eta 0:00:01\r\u001b[K     |████████████                    | 471kB 11.8MB/s eta 0:00:01\r\u001b[K     |████████████▎                   | 481kB 11.8MB/s eta 0:00:01\r\u001b[K     |████████████▌                   | 491kB 11.8MB/s eta 0:00:01\r\u001b[K     |████████████▊                   | 501kB 11.8MB/s eta 0:00:01\r\u001b[K     |█████████████                   | 512kB 11.8MB/s eta 0:00:01\r\u001b[K     |█████████████▎                  | 522kB 11.8MB/s eta 0:00:01\r\u001b[K     |█████████████▌                  | 532kB 11.8MB/s eta 0:00:01\r\u001b[K     |█████████████▉                  | 542kB 11.8MB/s eta 0:00:01\r\u001b[K     |██████████████                  | 552kB 11.8MB/s eta 0:00:01\r\u001b[K     |██████████████▍                 | 563kB 11.8MB/s eta 0:00:01\r\u001b[K     |██████████████▋                 | 573kB 11.8MB/s eta 0:00:01\r\u001b[K     |██████████████▉                 | 583kB 11.8MB/s eta 0:00:01\r\u001b[K     |███████████████▏                | 593kB 11.8MB/s eta 0:00:01\r\u001b[K     |███████████████▍                | 604kB 11.8MB/s eta 0:00:01\r\u001b[K     |███████████████▋                | 614kB 11.8MB/s eta 0:00:01\r\u001b[K     |████████████████                | 624kB 11.8MB/s eta 0:00:01\r\u001b[K     |████████████████▏               | 634kB 11.8MB/s eta 0:00:01\r\u001b[K     |████████████████▍               | 645kB 11.8MB/s eta 0:00:01\r\u001b[K     |████████████████▊               | 655kB 11.8MB/s eta 0:00:01\r\u001b[K     |█████████████████               | 665kB 11.8MB/s eta 0:00:01\r\u001b[K     |█████████████████▏              | 675kB 11.8MB/s eta 0:00:01\r\u001b[K     |█████████████████▌              | 686kB 11.8MB/s eta 0:00:01\r\u001b[K     |█████████████████▊              | 696kB 11.8MB/s eta 0:00:01\r\u001b[K     |██████████████████              | 706kB 11.8MB/s eta 0:00:01\r\u001b[K     |██████████████████▎             | 716kB 11.8MB/s eta 0:00:01\r\u001b[K     |██████████████████▌             | 727kB 11.8MB/s eta 0:00:01\r\u001b[K     |██████████████████▊             | 737kB 11.8MB/s eta 0:00:01\r\u001b[K     |███████████████████             | 747kB 11.8MB/s eta 0:00:01\r\u001b[K     |███████████████████▎            | 757kB 11.8MB/s eta 0:00:01\r\u001b[K     |███████████████████▌            | 768kB 11.8MB/s eta 0:00:01\r\u001b[K     |███████████████████▉            | 778kB 11.8MB/s eta 0:00:01\r\u001b[K     |████████████████████            | 788kB 11.8MB/s eta 0:00:01\r\u001b[K     |████████████████████▎           | 798kB 11.8MB/s eta 0:00:01\r\u001b[K     |████████████████████▋           | 808kB 11.8MB/s eta 0:00:01\r\u001b[K     |████████████████████▉           | 819kB 11.8MB/s eta 0:00:01\r\u001b[K     |█████████████████████           | 829kB 11.8MB/s eta 0:00:01\r\u001b[K     |█████████████████████▍          | 839kB 11.8MB/s eta 0:00:01\r\u001b[K     |█████████████████████▋          | 849kB 11.8MB/s eta 0:00:01\r\u001b[K     |██████████████████████          | 860kB 11.8MB/s eta 0:00:01\r\u001b[K     |██████████████████████▏         | 870kB 11.8MB/s eta 0:00:01\r\u001b[K     |██████████████████████▍         | 880kB 11.8MB/s eta 0:00:01\r\u001b[K     |██████████████████████▊         | 890kB 11.8MB/s eta 0:00:01\r\u001b[K     |███████████████████████         | 901kB 11.8MB/s eta 0:00:01\r\u001b[K     |███████████████████████▏        | 911kB 11.8MB/s eta 0:00:01\r\u001b[K     |███████████████████████▌        | 921kB 11.8MB/s eta 0:00:01\r\u001b[K     |███████████████████████▊        | 931kB 11.8MB/s eta 0:00:01\r\u001b[K     |████████████████████████        | 942kB 11.8MB/s eta 0:00:01\r\u001b[K     |████████████████████████▎       | 952kB 11.8MB/s eta 0:00:01\r\u001b[K     |████████████████████████▌       | 962kB 11.8MB/s eta 0:00:01\r\u001b[K     |████████████████████████▊       | 972kB 11.8MB/s eta 0:00:01\r\u001b[K     |█████████████████████████       | 983kB 11.8MB/s eta 0:00:01\r\u001b[K     |█████████████████████████▎      | 993kB 11.8MB/s eta 0:00:01\r\u001b[K     |█████████████████████████▌      | 1.0MB 11.8MB/s eta 0:00:01\r\u001b[K     |█████████████████████████▉      | 1.0MB 11.8MB/s eta 0:00:01\r\u001b[K     |██████████████████████████      | 1.0MB 11.8MB/s eta 0:00:01\r\u001b[K     |██████████████████████████▎     | 1.0MB 11.8MB/s eta 0:00:01\r\u001b[K     |██████████████████████████▋     | 1.0MB 11.8MB/s eta 0:00:01\r\u001b[K     |██████████████████████████▉     | 1.1MB 11.8MB/s eta 0:00:01\r\u001b[K     |███████████████████████████     | 1.1MB 11.8MB/s eta 0:00:01\r\u001b[K     |███████████████████████████▍    | 1.1MB 11.8MB/s eta 0:00:01\r\u001b[K     |███████████████████████████▋    | 1.1MB 11.8MB/s eta 0:00:01\r\u001b[K     |███████████████████████████▉    | 1.1MB 11.8MB/s eta 0:00:01\r\u001b[K     |████████████████████████████▏   | 1.1MB 11.8MB/s eta 0:00:01\r\u001b[K     |████████████████████████████▍   | 1.1MB 11.8MB/s eta 0:00:01\r\u001b[K     |████████████████████████████▊   | 1.1MB 11.8MB/s eta 0:00:01\r\u001b[K     |█████████████████████████████   | 1.1MB 11.8MB/s eta 0:00:01\r\u001b[K     |█████████████████████████████▏  | 1.1MB 11.8MB/s eta 0:00:01\r\u001b[K     |█████████████████████████████▌  | 1.2MB 11.8MB/s eta 0:00:01\r\u001b[K     |█████████████████████████████▊  | 1.2MB 11.8MB/s eta 0:00:01\r\u001b[K     |██████████████████████████████  | 1.2MB 11.8MB/s eta 0:00:01\r\u001b[K     |██████████████████████████████▎ | 1.2MB 11.8MB/s eta 0:00:01\r\u001b[K     |██████████████████████████████▌ | 1.2MB 11.8MB/s eta 0:00:01\r\u001b[K     |██████████████████████████████▊ | 1.2MB 11.8MB/s eta 0:00:01\r\u001b[K     |███████████████████████████████ | 1.2MB 11.8MB/s eta 0:00:01\r\u001b[K     |███████████████████████████████▎| 1.2MB 11.8MB/s eta 0:00:01\r\u001b[K     |███████████████████████████████▌| 1.2MB 11.8MB/s eta 0:00:01\r\u001b[K     |███████████████████████████████▉| 1.2MB 11.8MB/s eta 0:00:01\r\u001b[K     |████████████████████████████████| 1.3MB 11.8MB/s \n",
            "\u001b[?25hRequirement already satisfied: filelock in /usr/local/lib/python3.6/dist-packages (from transformers) (3.0.12)\n",
            "Requirement already satisfied: requests in /usr/local/lib/python3.6/dist-packages (from transformers) (2.23.0)\n",
            "Requirement already satisfied: packaging in /usr/local/lib/python3.6/dist-packages (from transformers) (20.4)\n",
            "Collecting tokenizers==0.9.2\n",
            "\u001b[?25l  Downloading https://files.pythonhosted.org/packages/7c/a5/78be1a55b2ac8d6a956f0a211d372726e2b1dd2666bb537fea9b03abd62c/tokenizers-0.9.2-cp36-cp36m-manylinux1_x86_64.whl (2.9MB)\n",
            "\u001b[K     |████████████████████████████████| 2.9MB 58.5MB/s \n",
            "\u001b[?25hRequirement already satisfied: regex!=2019.12.17 in /usr/local/lib/python3.6/dist-packages (from transformers) (2019.12.20)\n",
            "Requirement already satisfied: numpy in /usr/local/lib/python3.6/dist-packages (from transformers) (1.18.5)\n",
            "Requirement already satisfied: tqdm>=4.27 in /usr/local/lib/python3.6/dist-packages (from transformers) (4.41.1)\n",
            "Requirement already satisfied: protobuf in /usr/local/lib/python3.6/dist-packages (from transformers) (3.12.4)\n",
            "Collecting sentencepiece!=0.1.92\n",
            "\u001b[?25l  Downloading https://files.pythonhosted.org/packages/e5/2d/6d4ca4bef9a67070fa1cac508606328329152b1df10bdf31fb6e4e727894/sentencepiece-0.1.94-cp36-cp36m-manylinux2014_x86_64.whl (1.1MB)\n",
            "\u001b[K     |████████████████████████████████| 1.1MB 55.4MB/s \n",
            "\u001b[?25hCollecting sacremoses\n",
            "\u001b[?25l  Downloading https://files.pythonhosted.org/packages/7d/34/09d19aff26edcc8eb2a01bed8e98f13a1537005d31e95233fd48216eed10/sacremoses-0.0.43.tar.gz (883kB)\n",
            "\u001b[K     |████████████████████████████████| 890kB 48.1MB/s \n",
            "\u001b[?25hRequirement already satisfied: dataclasses; python_version < \"3.7\" in /usr/local/lib/python3.6/dist-packages (from transformers) (0.7)\n",
            "Requirement already satisfied: urllib3!=1.25.0,!=1.25.1,<1.26,>=1.21.1 in /usr/local/lib/python3.6/dist-packages (from requests->transformers) (1.24.3)\n",
            "Requirement already satisfied: chardet<4,>=3.0.2 in /usr/local/lib/python3.6/dist-packages (from requests->transformers) (3.0.4)\n",
            "Requirement already satisfied: idna<3,>=2.5 in /usr/local/lib/python3.6/dist-packages (from requests->transformers) (2.10)\n",
            "Requirement already satisfied: certifi>=2017.4.17 in /usr/local/lib/python3.6/dist-packages (from requests->transformers) (2020.6.20)\n",
            "Requirement already satisfied: six in /usr/local/lib/python3.6/dist-packages (from packaging->transformers) (1.15.0)\n",
            "Requirement already satisfied: pyparsing>=2.0.2 in /usr/local/lib/python3.6/dist-packages (from packaging->transformers) (2.4.7)\n",
            "Requirement already satisfied: setuptools in /usr/local/lib/python3.6/dist-packages (from protobuf->transformers) (50.3.2)\n",
            "Requirement already satisfied: click in /usr/local/lib/python3.6/dist-packages (from sacremoses->transformers) (7.1.2)\n",
            "Requirement already satisfied: joblib in /usr/local/lib/python3.6/dist-packages (from sacremoses->transformers) (0.17.0)\n",
            "Building wheels for collected packages: sacremoses\n",
            "  Building wheel for sacremoses (setup.py) ... \u001b[?25l\u001b[?25hdone\n",
            "  Created wheel for sacremoses: filename=sacremoses-0.0.43-cp36-none-any.whl size=893257 sha256=b37b6796f757d2a8085e1bb0e36e2d1ef8b0028913883d8f639777f98a5e440e\n",
            "  Stored in directory: /root/.cache/pip/wheels/29/3c/fd/7ce5c3f0666dab31a50123635e6fb5e19ceb42ce38d4e58f45\n",
            "Successfully built sacremoses\n",
            "Installing collected packages: tokenizers, sentencepiece, sacremoses, transformers\n",
            "Successfully installed sacremoses-0.0.43 sentencepiece-0.1.94 tokenizers-0.9.2 transformers-3.4.0\n"
          ],
          "name": "stdout"
        }
      ]
    },
    {
      "cell_type": "markdown",
      "metadata": {
        "id": "oEuWSdXKbTIY"
      },
      "source": [
        "Declaration of BERT for answering question"
      ]
    },
    {
      "cell_type": "code",
      "metadata": {
        "id": "LVSfzU8ua65L",
        "outputId": "e23d8e0d-98de-4f38-dccf-b0fd52552938",
        "colab": {
          "base_uri": "https://localhost:8080/",
          "height": 164,
          "referenced_widgets": [
            "a678f56b51a34cc5b959167539cf754d",
            "9ede2e8c72434e6db5af4f536da85fcf",
            "0d7aaca7ef93449db5a30148971637b2",
            "739590f5ad5e46a187c6d7d73290f6b1",
            "7b3bd72cfa994c01b3c25bf11bb7a22b",
            "95fea714d6a5439793c2bf24f1fe0fec",
            "019ab9f2e133441196046ca571e27031",
            "eadc9fe8959f479889936a3fe172b334",
            "3dfaa510e83b4c30b563d510f78ffe62",
            "b4b5f8a9349740be89d9a50ba444cd97",
            "d1c5cb276b7d44e28e64f667e9909aa0",
            "7c4f4be9a52c4f02bc5cf1559dbc1bf3",
            "00ebd548d20f49aba3447289fc5182bf",
            "092d90510cf340cabe0e0073dbd41592",
            "53e706159478483c848d6ef02820ba8e",
            "0a931161f831424089d8a1f6221edcfd",
            "a9820b87b17a46e6a2dd7e3d47708028",
            "8c6beb89c49c442c81a91065b3f1be4f",
            "dfb300a6951c4a20acb7977978f2bf0c",
            "96f0e896c6cc423c87a74fba82fbe1b7",
            "f9cf864fe4214eccbca09692c71c02bb",
            "4063c63e605842b1a10cd517701fd006",
            "a1bff5b242b1499f9d4fc70b1289e5bb",
            "f3919d38f4064cd19f74f89408fa30cc"
          ]
        }
      },
      "source": [
        "import torch\n",
        "from transformers import BertForQuestionAnswering\n",
        "from transformers import BertTokenizer\n",
        "import pandas as pd\n",
        "\n",
        "model = BertForQuestionAnswering.from_pretrained('bert-large-uncased-whole-word-masking-finetuned-squad')\n",
        "tokenizer = BertTokenizer.from_pretrained('bert-large-uncased-whole-word-masking-finetuned-squad')\n",
        "bert_abstract = \"Krzysztof January Krawczyk (born September 8, 1946 in Katowice) is a Polish baritone pop singer, guitarist and composer. He was the vocalist of a popular Polish band, Trubadurzy (the Troubadours), from 1963 to 1973 when he started his solo career. He was co-founder of the Post-secondary School of Stage Art in Łódź. His creative activity in the area of music is characterized by a combination of various music genres such as rock and roll, country music and rhythm & blues. His album To co w życiu ważne reached number one on the Polish Music Charts.Krawczyk learned to play the guitar on his own, whereas his vocal abilities were practised when he attended secondary school of music in Łódź. However, he had to quit his musical studies and become an errand-boy, because his father, an actor, died and his mother suffered from depression. He was the only member of the family to earn a living.In 1963 he founded, together with Ryszard Poznakowski, Marian Lichtman, Sławomir Kowalewski and Halina Żytkowiak, one of the best known Polish beat music bands of the 1960s, Trubadurzy, who combined elements of rock with Polish folk music.\"\n",
        "\n",
        "def answer_question(question, answer_text):\n",
        "    input_ids = tokenizer.encode(question, answer_text)\n",
        "    sep_index = input_ids.index(tokenizer.sep_token_id)\n",
        "    num_seg_a = sep_index + 1\n",
        "    num_seg_b = len(input_ids) - num_seg_a\n",
        "    segment_ids = [0]*num_seg_a + [1]*num_seg_b\n",
        "    assert len(segment_ids) == len(input_ids)\n",
        "\n",
        "    start_scores, end_scores = model(torch.tensor([input_ids]), token_type_ids=torch.tensor([segment_ids])) \n",
        "    answer_start = torch.argmax(start_scores)\n",
        "    answer_end = torch.argmax(end_scores)\n",
        "\n",
        "    tokens = tokenizer.convert_ids_to_tokens(input_ids)\n",
        "    answer = tokens[answer_start]\n",
        "    for i in range(answer_start + 1, answer_end + 1):\n",
        "        if tokens[i][0:2] == '##':\n",
        "            answer += tokens[i][2:]\n",
        "        else:\n",
        "            answer += ' ' + tokens[i]\n",
        "\n",
        "    return answer"
      ],
      "execution_count": 7,
      "outputs": [
        {
          "output_type": "display_data",
          "data": {
            "application/vnd.jupyter.widget-view+json": {
              "model_id": "a678f56b51a34cc5b959167539cf754d",
              "version_minor": 0,
              "version_major": 2
            },
            "text/plain": [
              "HBox(children=(FloatProgress(value=0.0, description='Downloading', max=443.0, style=ProgressStyle(description_…"
            ]
          },
          "metadata": {
            "tags": []
          }
        },
        {
          "output_type": "stream",
          "text": [
            "\n"
          ],
          "name": "stdout"
        },
        {
          "output_type": "display_data",
          "data": {
            "application/vnd.jupyter.widget-view+json": {
              "model_id": "3dfaa510e83b4c30b563d510f78ffe62",
              "version_minor": 0,
              "version_major": 2
            },
            "text/plain": [
              "HBox(children=(FloatProgress(value=0.0, description='Downloading', max=1340675298.0, style=ProgressStyle(descr…"
            ]
          },
          "metadata": {
            "tags": []
          }
        },
        {
          "output_type": "stream",
          "text": [
            "\n"
          ],
          "name": "stdout"
        },
        {
          "output_type": "display_data",
          "data": {
            "application/vnd.jupyter.widget-view+json": {
              "model_id": "a9820b87b17a46e6a2dd7e3d47708028",
              "version_minor": 0,
              "version_major": 2
            },
            "text/plain": [
              "HBox(children=(FloatProgress(value=0.0, description='Downloading', max=231508.0, style=ProgressStyle(descripti…"
            ]
          },
          "metadata": {
            "tags": []
          }
        },
        {
          "output_type": "stream",
          "text": [
            "\n"
          ],
          "name": "stdout"
        }
      ]
    },
    {
      "cell_type": "markdown",
      "metadata": {
        "id": "DhmvqszNbZpS"
      },
      "source": [
        "Declaration of Text to Voice"
      ]
    },
    {
      "cell_type": "code",
      "metadata": {
        "id": "6wCDmWXtbeEq",
        "outputId": "de91e2ce-4352-4b9b-bb97-e61c80765305",
        "colab": {
          "base_uri": "https://localhost:8080/"
        }
      },
      "source": [
        "!git clone https://github.com/CorentinJ/Real-Time-Voice-Cloning.git\n"
      ],
      "execution_count": 1,
      "outputs": [
        {
          "output_type": "stream",
          "text": [
            "Cloning into 'Real-Time-Voice-Cloning'...\n",
            "remote: Enumerating objects: 1, done.\u001b[K\n",
            "remote: Counting objects: 100% (1/1), done.\u001b[K\n",
            "remote: Total 2540 (delta 0), reused 0 (delta 0), pack-reused 2539\u001b[K\n",
            "Receiving objects: 100% (2540/2540), 360.90 MiB | 39.06 MiB/s, done.\n",
            "Resolving deltas: 100% (1404/1404), done.\n"
          ],
          "name": "stdout"
        }
      ]
    },
    {
      "cell_type": "code",
      "metadata": {
        "id": "PZRVbl3tdjae",
        "outputId": "7cfdeb33-66d9-454a-f1be-bb2357306a1b",
        "colab": {
          "base_uri": "https://localhost:8080/"
        }
      },
      "source": [
        "cd Real-Time-Voice-Cloning/"
      ],
      "execution_count": 2,
      "outputs": [
        {
          "output_type": "stream",
          "text": [
            "/content/Real-Time-Voice-Cloning\n"
          ],
          "name": "stdout"
        }
      ]
    },
    {
      "cell_type": "code",
      "metadata": {
        "id": "9PNfUd_4dYn0",
        "outputId": "bb320be9-a248-4ec3-f56b-fb1d3e804659",
        "colab": {
          "base_uri": "https://localhost:8080/"
        }
      },
      "source": [
        "!pip install -q -r requirements.txt\n",
        "!apt-get install -qq libportaudio2\n",
        "!gdown https://drive.google.com/uc?id=1n1sPXvT34yXFLT47QZA6FIRGrwMeSsZc\n",
        "!unzip pretrained.zip"
      ],
      "execution_count": 3,
      "outputs": [
        {
          "output_type": "stream",
          "text": [
            "\u001b[K     |████████████████████████████████| 412.3MB 43kB/s \n",
            "\u001b[K     |████████████████████████████████| 686kB 47.7MB/s \n",
            "\u001b[K     |████████████████████████████████| 184kB 60.6MB/s \n",
            "\u001b[K     |████████████████████████████████| 11.6MB 55.9MB/s \n",
            "\u001b[K     |████████████████████████████████| 245kB 64.3MB/s \n",
            "\u001b[K     |████████████████████████████████| 71.6MB 157kB/s \n",
            "\u001b[K     |████████████████████████████████| 3.8MB 50.7MB/s \n",
            "\u001b[K     |████████████████████████████████| 512kB 56.1MB/s \n",
            "\u001b[K     |████████████████████████████████| 51kB 8.5MB/s \n",
            "\u001b[K     |████████████████████████████████| 204kB 61.6MB/s \n",
            "\u001b[K     |████████████████████████████████| 51kB 7.9MB/s \n",
            "\u001b[K     |████████████████████████████████| 286kB 63.5MB/s \n",
            "\u001b[?25h  Building wheel for visdom (setup.py) ... \u001b[?25l\u001b[?25hdone\n",
            "  Building wheel for librosa (setup.py) ... \u001b[?25l\u001b[?25hdone\n",
            "  Building wheel for gast (setup.py) ... \u001b[?25l\u001b[?25hdone\n",
            "  Building wheel for torchfile (setup.py) ... \u001b[?25l\u001b[?25hdone\n",
            "\u001b[31mERROR: tensorflow-probability 0.11.0 has requirement gast>=0.3.2, but you'll have gast 0.2.2 which is incompatible.\u001b[0m\n",
            "\u001b[31mERROR: albumentations 0.1.12 has requirement imgaug<0.2.7,>=0.2.5, but you'll have imgaug 0.2.9 which is incompatible.\u001b[0m\n",
            "Selecting previously unselected package libportaudio2:amd64.\n",
            "(Reading database ... 144628 files and directories currently installed.)\n",
            "Preparing to unpack .../libportaudio2_19.6.0-1_amd64.deb ...\n",
            "Unpacking libportaudio2:amd64 (19.6.0-1) ...\n",
            "Setting up libportaudio2:amd64 (19.6.0-1) ...\n",
            "Processing triggers for libc-bin (2.27-3ubuntu1.2) ...\n",
            "/sbin/ldconfig.real: /usr/local/lib/python3.6/dist-packages/ideep4py/lib/libmkldnn.so.0 is not a symbolic link\n",
            "\n",
            "Downloading...\n",
            "From: https://drive.google.com/uc?id=1n1sPXvT34yXFLT47QZA6FIRGrwMeSsZc\n",
            "To: /content/Real-Time-Voice-Cloning/pretrained.zip\n",
            "384MB [00:02, 179MB/s]\n",
            "Archive:  pretrained.zip\n",
            "   creating: encoder/saved_models/\n",
            "  inflating: encoder/saved_models/pretrained.pt  \n",
            "   creating: synthesizer/saved_models/\n",
            "   creating: synthesizer/saved_models/logs-pretrained/\n",
            "   creating: synthesizer/saved_models/logs-pretrained/taco_pretrained/\n",
            " extracting: synthesizer/saved_models/logs-pretrained/taco_pretrained/checkpoint  \n",
            "  inflating: synthesizer/saved_models/logs-pretrained/taco_pretrained/tacotron_model.ckpt-278000.data-00000-of-00001  \n",
            "  inflating: synthesizer/saved_models/logs-pretrained/taco_pretrained/tacotron_model.ckpt-278000.index  \n",
            "  inflating: synthesizer/saved_models/logs-pretrained/taco_pretrained/tacotron_model.ckpt-278000.meta  \n",
            "   creating: vocoder/saved_models/\n",
            "   creating: vocoder/saved_models/pretrained/\n",
            "  inflating: vocoder/saved_models/pretrained/pretrained.pt  \n"
          ],
          "name": "stdout"
        }
      ]
    },
    {
      "cell_type": "code",
      "metadata": {
        "id": "StYUnGpkbq1e",
        "outputId": "3a63dedc-159e-4e99-91bd-b0abace480eb",
        "colab": {
          "base_uri": "https://localhost:8080/"
        }
      },
      "source": [
        "from google.colab import drive\n",
        "import os \n",
        "drive.mount('/content/drive', force_remount=True)\n",
        "COLAB = True\n",
        "print(\"Note: using Google CoLab\")"
      ],
      "execution_count": 4,
      "outputs": [
        {
          "output_type": "stream",
          "text": [
            "Mounted at /content/drive\n",
            "Note: using Google CoLab\n"
          ],
          "name": "stdout"
        }
      ]
    },
    {
      "cell_type": "code",
      "metadata": {
        "id": "NRuE8x9kbm5A",
        "outputId": "0ace6c3b-b40e-4896-8290-262d17eb6cfe",
        "colab": {
          "base_uri": "https://localhost:8080/"
        }
      },
      "source": [
        "from IPython.display import Audio\n",
        "from IPython.utils import io\n",
        "from synthesizer.inference import Synthesizer\n",
        "from encoder import inference as encoder\n",
        "from vocoder import inference as vocoder\n",
        "from pathlib import Path\n",
        "import numpy as np\n",
        "import librosa\n",
        "encoder_weights = Path(\"encoder/saved_models/pretrained.pt\")\n",
        "vocoder_weights = Path(\"vocoder/saved_models/pretrained/pretrained.pt\")\n",
        "syn_dir = Path(\"synthesizer/saved_models/logs-pretrained/taco_pretrained\")\n",
        "AUDIO_PATH = (\"/content/drive/My Drive\")\n",
        "\n",
        "encoder.load_model(encoder_weights)\n",
        "synthesizer = Synthesizer(syn_dir)\n",
        "vocoder.load_model(vocoder_weights)\n",
        "in_fpath = os.path.join(AUDIO_PATH, 'audio.wav') \n",
        "\n",
        "reprocessed_wav = encoder.preprocess_wav(in_fpath)\n",
        "original_wav, sampling_rate = librosa.load(in_fpath)\n",
        "preprocessed_wav = encoder.preprocess_wav(original_wav, sampling_rate)\n",
        "embed = encoder.embed_utterance(preprocessed_wav)"
      ],
      "execution_count": 5,
      "outputs": [
        {
          "output_type": "stream",
          "text": [
            "/content/Real-Time-Voice-Cloning/encoder/audio.py:13: UserWarning: Unable to import 'webrtcvad'. This package enables noise removal and is recommended.\n",
            "  warn(\"Unable to import 'webrtcvad'. This package enables noise removal and is recommended.\")\n"
          ],
          "name": "stderr"
        },
        {
          "output_type": "stream",
          "text": [
            "Loaded encoder \"pretrained.pt\" trained to step 1564501\n",
            "Found synthesizer \"pretrained\" trained to step 278000\n",
            "Building Wave-RNN\n",
            "Trainable Parameters: 4.481M\n",
            "Loading model weights at vocoder/saved_models/pretrained/pretrained.pt\n"
          ],
          "name": "stdout"
        }
      ]
    },
    {
      "cell_type": "code",
      "metadata": {
        "id": "cL-ShGGXb4A4",
        "outputId": "e024d6d1-21a8-44af-db3e-992d109a5287",
        "colab": {
          "base_uri": "https://localhost:8080/"
        }
      },
      "source": [
        "question = \"What nationality is Krawczyk?\"\n",
        "text = answer_question(question, bert_abstract)\n",
        "print(text)"
      ],
      "execution_count": 23,
      "outputs": [
        {
          "output_type": "stream",
          "text": [
            "polish\n"
          ],
          "name": "stdout"
        }
      ]
    },
    {
      "cell_type": "code",
      "metadata": {
        "id": "3hYYt3kYbpjI",
        "outputId": "3bd7d05e-71ed-4121-a921-eabe15bb0e37",
        "colab": {
          "base_uri": "https://localhost:8080/",
          "height": 92
        }
      },
      "source": [
        "with io.capture_output() as captured:\n",
        "    specs = synthesizer.synthesize_spectrograms([text], [embed])\n",
        "generated_wav = vocoder.infer_waveform(specs[0])\n",
        "generated_wav = np.pad(generated_wav, (0, synthesizer.sample_rate), mode=\"constant\")\n",
        "display(Audio(generated_wav, rate=synthesizer.sample_rate))"
      ],
      "execution_count": 24,
      "outputs": [
        {
          "output_type": "stream",
          "text": [
            "{| ████████████████ 19000/19200 | Batch Size: 2 | Gen Rate: 2.5kHz | }"
          ],
          "name": "stdout"
        },
        {
          "output_type": "display_data",
          "data": {
            "text/html": [
              "\n",
              "                <audio controls=\"controls\" >\n",
              "                    <source src=\"data:audio/wav;base64,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\" type=\"audio/wav\" />\n",
              "                    Your browser does not support the audio element.\n",
              "                </audio>\n",
              "              "
            ],
            "text/plain": [
              "<IPython.lib.display.Audio object>"
            ]
          },
          "metadata": {
            "tags": []
          }
        }
      ]
    }
  ]
}